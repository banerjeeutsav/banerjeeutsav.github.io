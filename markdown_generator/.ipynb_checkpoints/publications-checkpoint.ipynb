{
 "cells": [
  {
   "cell_type": "markdown",
   "metadata": {},
   "source": [
    "# Publications markdown generator for academicpages\n",
    "\n",
    "Takes a TSV of publications with metadata and converts them for use with [academicpages.github.io](academicpages.github.io). This is an interactive Jupyter notebook ([see more info here](http://jupyter-notebook-beginner-guide.readthedocs.io/en/latest/what_is_jupyter.html)). The core python code is also in `publications.py`. Run either from the `markdown_generator` folder after replacing `publications.tsv` with one containing your data.\n",
    "\n",
    "TODO: Make this work with BibTex and other databases of citations, rather than Stuart's non-standard TSV format and citation style.\n"
   ]
  },
  {
   "cell_type": "markdown",
   "metadata": {},
   "source": [
    "## Data format\n",
    "\n",
    "The TSV needs to have the following columns: pub_date, title, venue, excerpt, citation, site_url, and paper_url, with a header at the top. \n",
    "\n",
    "- `excerpt` and `paper_url` can be blank, but the others must have values. \n",
    "- `pub_date` must be formatted as YYYY-MM-DD.\n",
    "- `url_slug` will be the descriptive part of the .md file and the permalink URL for the page about the paper. The .md file will be `YYYY-MM-DD-[url_slug].md` and the permalink will be `https://[yourdomain]/publications/YYYY-MM-DD-[url_slug]`\n",
    "\n",
    "This is how the raw file looks (it doesn't look pretty, use a spreadsheet or other program to edit and create)."
   ]
  },
  {
   "cell_type": "code",
   "execution_count": 1,
   "metadata": {},
   "outputs": [
    {
     "name": "stdout",
     "output_type": "stream",
     "text": [
      "pub_date\ttitle\tvenue\texcerpt\tcitation\turl_slug\tpaper_url\r\n",
      "2014-04-01\tComparative DC Characteristic Analysis of AlGaN/GaN HEMTs Grown on Si(111) and Sapphire Substrates by MBE\tJournal of Electronic Materials\tA comparative assessment of AlGaN/GaN high-electron-mobility transistors (HEMTs) grown by molecular beam epitaxy on silicon and sapphire substrates has been carried out. Large-area power GaN HEMTs with identical device dimensions were fabricated on both substrates. A thicker AlN buffer layer was used for the GaN HEMT on silicon to achieve similar quality and uniformity of GaN epitaxy for rational comparison with that grown on sapphire. Direct-current analysis and physical characterization were carried out to understand the performance of the devices. Mathematical measurement of the instability of the current–voltage (I–V) characteristic at high applied drain bias was carried out to evaluate the performance of both devices. An improved two-dimensional (2D) analysis of the I–V characteristic was performed from a thermal perspective including appropriate scattering effects on the 2D electron gas mobility. The experimental and analytical studies were correlated to reveal the effects of temperature-sensitive scattering phenomena on the mobility as well as on the I–V characteristic at high drain bias in terms of lattice thermal heating. It is observed that the HEMT on Si has improved stability compared with sapphire due to its weaker scattering phenomena at high drain bias, associated with its thermal conductivity. Simulation of 2D thermal mapping was also carried out to distinguish the hot-spot regions of the devices. The comparable electrical performance of these devices illustrates the viability of AlGaN/GaN HEMTs on Si(111) to achieve low-cost stable devices with better thermal power handling for high-voltage applications.\tP. Mukhopadhyay, A. Bag, U. Gomes, U. Banerjee, S. Ghosh, S. Kabi, E. Y. I. Chang, A. Dabiran, P. Chow and D. Biswas, \"Comparative DC Characteristic Analysis of AlGaN/GaN HEMTs Grown on Si(111) and Sapphire Substrates by MBE,\" IEEE/TMS Journal of Electronic Materials, vol. 43, no. 4, pp. 1263–1270, April 2014.\t2014-jem\thttps://doi.org/10.1007/s11664-014-3050-4\r\n",
      "2015-02-01\tInfluence of Growth Morphology on Electrical and Thermal Modeling of AlGaN/GaN HEMT on Sapphire and Silicon\tSolid-State Electronics\tIn this paper an analytical model has been optimized to represent similar AlGaN/GaN high electron mobility transistor epitaxially grown on different substrates of sapphire and silicon in view of the effect of epitaxial growth driven crystalline quality of buffer on device I–V characteristics. We have observed its important role on electrical and thermal characteristics of the device. Starting with the standard model for AlGaN/GaN HEMT on sapphire, we have employed a novel thermal modeling approach on this metamorphic buffer to derive the device temperature in different epilayers. The optimized mobility model has been enriched with two defect scatterings for their potential role at high lattice temperature. The electrical and thermal characteristics, obtained from present model, are well agreed with the published experimental data and other existing models. We have observed the inclusion of high parasitic resistance to reduce the dissimilarity in I–V characteristics at linear region between experimental and the present model data for the HEMT on Si; which is possibly related to the growth morphology. Perhaps this dissimilarity can be a collaborative effect of various factors like traps, thermal expansion coefficient mismatch and change in critical electric field. Finally, we have observed the significant influence of device dimension on thermal characteristics of the device; which leads to scaling.\tP. Mukhopadhyay, U. Banerjee, A. Bag, S. Ghosh and D. Biswas, \"Influence of Growth Morphology on Electrical and Thermal Modeling of AlGaN/GaN HEMT on Sapphire and Silicon,\" Solid-State Electronics, vol. 104, pp. 101-108, February 2015.\t2015-sse\thttps://doi.org/10.1016/j.sse.2014.11.017\r\n",
      "2015-12-01\tPower-Based Side-Channel Attack for AES Key Extraction on the ATMega328 Microcontroller\tMIT Computer Systems Security Report\tWe demonstrate the extraction of an AES secret key from flash memory on the ATMega328 microcontroller (the microcontroller used on the popular Arduino Genuino/Uno board). We loaded a standard AVR-architecture AES-128 implementation onto the chip and encrypted randomly chosen plaintexts with several different keys. We measured the chip’s power consumption during encryption, correlated observed power consumption with the expected power consumption of the plaintexts with every possible key, and ultimately extracted the 128-bit key used during AES. We describe here our test infrastructure for automated power trace collection, an overview of our correlation attack, sanitization of the traces and stumbling blocks encountered during data collection and analysis, and results of our attack.\tU. Banerjee, L. Ho and S. Koppula, \"Power-Based Side-Channel Attack for AES Key Extraction on the ATMega328 Microcontroller,\" MIT Computer Systems Security Report, December 2015.\t2015-report-858\thttp://css.csail.mit.edu/6.858/2015/projects/utsav-lisayz-skoppula.pdf\r\n",
      "2017-12-01\teeDTLS: Energy-Efficient Datagram Transport Layer Security for the Internet of Things\tIEEE Global Communications Conference (GLOBECOM)\tIn the fast growing world of the Internet of Things (IoT), security has become a major concern. Datagram Transport Layer Security (DTLS) is considered to be one of the most suited protocols for securing the IoT. However, computation and communication overheads make it very expensive to implement DTLS on resource-constrained IoT sensor nodes. In this work, we profile the energy costs of DTLS 1.3, using experimental models for cryptographic computations and radio-frequency (RF) communications. Based on this analysis, we present eeDTLS, a low-energy variant of DTLS, that provides the same security strength as DTLS, but has lower energy requirements. By employing a combination of packet size reduction and optimized handshake computations, eeDTLS can provide up to 45% energy savings in a typical IoT use case. eeDTLS can be implemented in conjunction with any low-energy IoT RF protocol, and the proposed energy models and protocol optimizations can also be used to improve the energy efficiency of custom IoT security architectures.\tU. Banerjee, C. Juvekar, S. H. Fuller and A. P. Chandrakasan, \"eeDTLS: Energy-Efficient Datagram Transport Layer Security for the Internet of Things,\" IEEE Global Communications Conference (GLOBECOM), December 2017.\t2017-globecom\thttps://ieeexplore.ieee.org/document/8255053/\r\n",
      "2018-02-01\tAn Energy-Efficient Reconfigurable DTLS Cryptographic Engine for End-to-End Security in IoT Applications\tIEEE International Solid-State Circuits Conference (ISSCC)\tEnd-to-end security protocols, like Datagram Transport Layer Security (DTLS), enable the establishment of mutually authenticated confidential channels between edge nodes and the cloud, even in the presence of untrusted and potentially malicious network infrastructure. While this makes DTLS an ideal solution for IoT, the associated computational cost makes software-only implementations prohibitively expensive for resource-constrained embedded devices. We address this challenge through three key contributions: reconfigurable cryptographic accelerators enable two orders of magnitude energy savings, a dedicated DTLS engine offloads control flow to hardware reducing program code and memory usage by ~10x. and an on-chip RISC-V core exercises the flexibility of the cryptographic accelerators to demonstrate security applications beyond DTLS.\tU. Banerjee, C. Juvekar, A. Wright, Arvind and A. P. Chandrakasan, \"An Energy-Efficient Reconfigurable DTLS Cryptographic Engine for End-to-End Security in IoT Applications,\" IEEE International Solid-State Circuits Conference (ISSCC), February 2018.\t2018-isscc\thttps://ieeexplore.ieee.org/document/8310174/\r\n",
      "2019-02-01\tAn Energy-Efficient Configurable Lattice Cryptography Processor for the Quantum-Secure Internet of Things\tIEEE International Solid-State Circuits Conference (ISSCC)\tModern public key protocols, such as RSA and elliptic curve cryptography (ECC), will be rendered insecure by Shor’s algorithm when large-scale quantum computers are built. Therefore, cryptographers are working on quantum-resistant algorithms, and lattice-based cryptography has emerged as a prime candidate. However, high computational complexity of these algorithms makes it challenging to implement lattice-based protocols on resource-constrained IoT devices which need to secure data against both present and future adversaries. To address this challenge, we present a lattice cryptography processor with configurable parameters which enables up to two orders of magnitude energy savings and 124k-gate reduction in system area through architectural optimizations. This is also the first ASIC implementation which demonstrates multiple lattice-based protocols proposed in the NIST post-quantum standardization process.\tU. Banerjee, A. Pathak and A. P. Chandrakasan, \"An Energy-Efficient Configurable Lattice Cryptography Processor for the Quantum-Secure Internet of Things,\" IEEE International Solid-State Circuits Conference (ISSCC), February 2019.\t2019-isscc\thttps://ieeexplore.ieee.org/document/8662528/\r\n",
      "2019-05-01\tAn Energy-Efficient Reconfigurable DTLS Cryptographic Engine for Securing Internet-of-Things Applications\tIEEE Journal of Solid-State Circuits (JSSC)\tThis paper presents the first hardware implementation of the datagram transport layer security (DTLS) protocol to enable end-to-end security for the Internet of Things (IoT). A key component of this design is a reconfigurable prime field elliptic curve cryptography (ECC) accelerator that is 238x and 9x more energy-efficient compared to software and state-of-the-art hardware, respectively. Our full hardware implementation of the DTLS 1.3 protocol provides 438x improvement in energy-efficiency over software, along with code size and data memory usage as low as 8 and 3 KB, respectively. The cryptographic accelerators are coupled with an on-chip low-power RISC-V processor to benchmark applications beyond DTLS with up to two orders of magnitude energy savings. The test chip, fabricated in 65-nm CMOS, demonstrates hardware-accelerated DTLS sessions while consuming 44.08 μJ/handshake and 0.89 nJ/byte of the encrypted data at 16 MHz and 0.8 V.\tU. Banerjee, A. Wright, C. Juvekar, M. Waller, Arvind and A. P. Chandrakasan, \"An Energy-Efficient Reconfigurable DTLS Cryptographic Engine for Securing Internet-of-Things Applications,\" IEEE Journal of Solid-State Circuits (JSSC), May 2019.\t2019-jssc\thttps://ieeexplore.ieee.org/document/8721457/\r\n",
      "2019-08-01\tSapphire: A Configurable Crypto-Processor for Post-Quantum Lattice-based Protocols\tIACR Transactions on Cryptographic Hardware and Embedded Systems (TCHES)\tPublic key cryptography protocols, such as RSA and elliptic curve cryptography, will be rendered insecure by Shor’s algorithm when large-scale quantum computers are built. Cryptographers are working on quantum-resistant algorithms, and lattice-based cryptography has emerged as a prime candidate. However, high computational complexity of these algorithms makes it challenging to implement lattice-based protocols on low-power embedded devices. To address this challenge, we present Sapphire – a lattice cryptography processor with configurable parameters. Efficient sampling, with a SHA-3-based PRNG, provides two orders of magnitude energy savings; a single-port RAM-based number theoretic transform memory architecture is proposed, which provides 124k-gate area savings; while a low-power modular arithmetic unit accelerates polynomial computations. Our test chip was fabricated in TSMC 40nm low-power CMOS process, with the Sapphire cryptographic core occupying 0.28 mm2 area consisting of 106k logic gates and 40.25 KB SRAM. Sapphire can be programmed with custom instructions for polynomial arithmetic and sampling, and it is coupled with a low-power RISC-V micro-processor to demonstrate NIST Round 2 lattice-based CCA-secure key encapsulation and signature protocols Frodo, NewHope, qTESLA, CRYSTALS-Kyber and CRYSTALS-Dilithium, achieving up to an order of magnitude improvement in performance and energy-efficiency compared to state-of-the-art hardware implementations. All key building blocks of Sapphire are constant-time and secure against timing and simple power analysis side-channel attacks. We also discuss how masking-based DPA countermeasures can be implemented on the Sapphire core without any changes to the hardware.\tU. Banerjee, T. S. Ukyab and A. P. Chandrakasan, \"Sapphire: A Configurable Crypto-Processor for Post-Quantum Lattice-based Protocols,\" IACR Transactions on Cryptographic Hardware and Embedded Systems (TCHES), August 2019.\t2019-tches\thttps://tches.iacr.org/index.php/TCHES/article/view/8344/\r\n",
      "2019-10-01\tSapphire: A Configurable Crypto-Processor for Post-Quantum Lattice-based Protocols (Extended Version)\tIACR Cryptology ePrint Archive\tPublic key cryptography protocols, such as RSA and elliptic curve cryptography, will be rendered insecure by Shor’s algorithm when large-scale quantum computers are built. Cryptographers are working on quantum-resistant algorithms, and lattice-based cryptography has emerged as a prime candidate. However, high computational complexity of these algorithms makes it challenging to implement lattice-based protocols on low-power embedded devices. To address this challenge, we present Sapphire – a lattice cryptography processor with configurable parameters. Efficient sampling, with a SHA-3-based PRNG, provides two orders of magnitude energy savings; a single-port RAM-based number theoretic transform memory architecture is proposed, which provides 124k-gate area savings; while a low-power modular arithmetic unit accelerates polynomial computations. Our test chip was fabricated in TSMC 40nm low-power CMOS process, with the Sapphire cryptographic core occupying 0.28 mm2 area consisting of 106k logic gates and 40.25 KB SRAM. Sapphire can be programmed with custom instructions for polynomial arithmetic and sampling, and it is coupled with a low-power RISC-V micro-processor to demonstrate NIST Round 2 lattice-based CCA-secure key encapsulation and signature protocols Frodo, NewHope, qTESLA, CRYSTALS-Kyber and CRYSTALS-Dilithium, achieving up to an order of magnitude improvement in performance and energy-efficiency compared to state-of-the-art hardware implementations. All key building blocks of Sapphire are constant-time and secure against timing and simple power analysis side-channel attacks. We also discuss how masking-based DPA countermeasures can be implemented on the Sapphire core without any changes to the hardware.\tU. Banerjee, T. S. Ukyab and A. P. Chandrakasan, \"Sapphire: A Configurable Crypto-Processor for Post-Quantum Lattice-based Protocols (Extended Version),\" IACR Cryptology ePrint Archive, October 2019.\t2019-eprint\thttps://eprint.iacr.org/2019/1140.pdf\r\n",
      "2019-12-01\tSapphire-Sim: Macro-Op-Level Simulator for Ring-LWE and Module-LWE Hardware Acceleration\tPrePrint\tThis manuscript describes a Python-based open-source cycle-accurate simulator for the Sapphire lattice-crypto processor which can be used to profile the performance of Ring-LWE and Module-LWE algorithms. This allows fast evaluation of lattice-based protocols with varying parameter choices but without any hardware design effort, which is especially important for a fast evolving field such as lattice-based cryptography. The simulator not only reports accurate cycle counts and execution times but also macro-operation-level power and average energy consumption modelled using measurements from the Sapphire test chip at various operating conditions. Detailed description of the custom instructions, simulation options and example code are also provided as reference.\tU. Banerjee and A. P. Chandrakasan, \"Sapphire-Sim: Macro-Op-Level Simulator for Ring-LWE and Module-LWE Hardware Acceleration,\" PrePrint, December 2019.\t2019-preprint\thttps://banerjeeutsav.github.io/files/2019-sapphire-sim-documentation.pdf\r\n",
      "2020-03-01\tA Low-Power Dual-Factor Authentication Unit for Secure Implantable Devices\tIEEE Custom Integrated Circuits Conference (CICC)\tThis paper presents a dual-factor authentication protocol and its low-power implementation for security of implantable medical devices (IMDs). The protocol incorporates traditional cryptographic first-factor authentication using Datagram Transport Layer Security - Pre-Shared Key (DTLS-PSK) followed by the user's touch-based voluntary second-factor authentication for enhanced security. With a low-power compact always-on wake-up timer and touch-based wake-up circuitry, our test chip consumes only 735 pW idle state power at 20.15 Hz and 2.5 V. The hardware accelerated dual-factor authentication unit consumes 8 μW at 660 kHz and 0.87 V. Our test chip was coupled with commercial Bluetooth Low Energy (BLE) transceiver, DC-DC converter, touch sensor and coin cell battery to demonstrate standalone implantable operation and also tested using in-vitro measurement setup.\tS. Maji, U. Banerjee, S. H. Fuller, M. R. Abdelhamid, P. M. Nadeau, R. T. Yazicigil and A. P. Chandrakasan, \"A Low-Power Dual-Factor Authentication Unit for Secure Implantable Devices,\"IEEE Custom Integrated Circuits Conference (CICC), March 2020.\t2020-cicc\thttps://ieeexplore.ieee.org/document/9075945/"
     ]
    }
   ],
   "source": [
    "!cat publications.tsv"
   ]
  },
  {
   "cell_type": "markdown",
   "metadata": {},
   "source": [
    "## Import pandas\n",
    "\n",
    "We are using the very handy pandas library for dataframes."
   ]
  },
  {
   "cell_type": "code",
   "execution_count": 2,
   "metadata": {},
   "outputs": [],
   "source": [
    "import pandas as pd"
   ]
  },
  {
   "cell_type": "markdown",
   "metadata": {},
   "source": [
    "## Import TSV\n",
    "\n",
    "Pandas makes this easy with the read_csv function. We are using a TSV, so we specify the separator as a tab, or `\\t`.\n",
    "\n",
    "I found it important to put this data in a tab-separated values format, because there are a lot of commas in this kind of data and comma-separated values can get messed up. However, you can modify the import statement, as pandas also has read_excel(), read_json(), and others."
   ]
  },
  {
   "cell_type": "code",
   "execution_count": 3,
   "metadata": {},
   "outputs": [
    {
     "data": {
      "text/html": [
       "<div>\n",
       "<style scoped>\n",
       "    .dataframe tbody tr th:only-of-type {\n",
       "        vertical-align: middle;\n",
       "    }\n",
       "\n",
       "    .dataframe tbody tr th {\n",
       "        vertical-align: top;\n",
       "    }\n",
       "\n",
       "    .dataframe thead th {\n",
       "        text-align: right;\n",
       "    }\n",
       "</style>\n",
       "<table border=\"1\" class=\"dataframe\">\n",
       "  <thead>\n",
       "    <tr style=\"text-align: right;\">\n",
       "      <th></th>\n",
       "      <th>pub_date</th>\n",
       "      <th>title</th>\n",
       "      <th>venue</th>\n",
       "      <th>excerpt</th>\n",
       "      <th>citation</th>\n",
       "      <th>url_slug</th>\n",
       "      <th>paper_url</th>\n",
       "    </tr>\n",
       "  </thead>\n",
       "  <tbody>\n",
       "    <tr>\n",
       "      <th>0</th>\n",
       "      <td>2014-04-01</td>\n",
       "      <td>Comparative DC Characteristic Analysis of AlGa...</td>\n",
       "      <td>Journal of Electronic Materials</td>\n",
       "      <td>A comparative assessment of AlGaN/GaN high-ele...</td>\n",
       "      <td>P. Mukhopadhyay, A. Bag, U. Gomes, U. Banerjee...</td>\n",
       "      <td>2014-jem</td>\n",
       "      <td>https://doi.org/10.1007/s11664-014-3050-4</td>\n",
       "    </tr>\n",
       "    <tr>\n",
       "      <th>1</th>\n",
       "      <td>2015-02-01</td>\n",
       "      <td>Influence of Growth Morphology on Electrical a...</td>\n",
       "      <td>Solid-State Electronics</td>\n",
       "      <td>In this paper an analytical model has been opt...</td>\n",
       "      <td>P. Mukhopadhyay, U. Banerjee, A. Bag, S. Ghosh...</td>\n",
       "      <td>2015-sse</td>\n",
       "      <td>https://doi.org/10.1016/j.sse.2014.11.017</td>\n",
       "    </tr>\n",
       "    <tr>\n",
       "      <th>2</th>\n",
       "      <td>2015-12-01</td>\n",
       "      <td>Power-Based Side-Channel Attack for AES Key Ex...</td>\n",
       "      <td>MIT Computer Systems Security Report</td>\n",
       "      <td>We demonstrate the extraction of an AES secret...</td>\n",
       "      <td>U. Banerjee, L. Ho and S. Koppula, \"Power-Base...</td>\n",
       "      <td>2015-report-858</td>\n",
       "      <td>http://css.csail.mit.edu/6.858/2015/projects/u...</td>\n",
       "    </tr>\n",
       "    <tr>\n",
       "      <th>3</th>\n",
       "      <td>2017-12-01</td>\n",
       "      <td>eeDTLS: Energy-Efficient Datagram Transport La...</td>\n",
       "      <td>IEEE Global Communications Conference (GLOBECOM)</td>\n",
       "      <td>In the fast growing world of the Internet of T...</td>\n",
       "      <td>U. Banerjee, C. Juvekar, S. H. Fuller and A. P...</td>\n",
       "      <td>2017-globecom</td>\n",
       "      <td>https://ieeexplore.ieee.org/document/8255053/</td>\n",
       "    </tr>\n",
       "    <tr>\n",
       "      <th>4</th>\n",
       "      <td>2018-02-01</td>\n",
       "      <td>An Energy-Efficient Reconfigurable DTLS Crypto...</td>\n",
       "      <td>IEEE International Solid-State Circuits Confer...</td>\n",
       "      <td>End-to-end security protocols, like Datagram T...</td>\n",
       "      <td>U. Banerjee, C. Juvekar, A. Wright, Arvind and...</td>\n",
       "      <td>2018-isscc</td>\n",
       "      <td>https://ieeexplore.ieee.org/document/8310174/</td>\n",
       "    </tr>\n",
       "    <tr>\n",
       "      <th>5</th>\n",
       "      <td>2019-02-01</td>\n",
       "      <td>An Energy-Efficient Configurable Lattice Crypt...</td>\n",
       "      <td>IEEE International Solid-State Circuits Confer...</td>\n",
       "      <td>Modern public key protocols, such as RSA and e...</td>\n",
       "      <td>U. Banerjee, A. Pathak and A. P. Chandrakasan,...</td>\n",
       "      <td>2019-isscc</td>\n",
       "      <td>https://ieeexplore.ieee.org/document/8662528/</td>\n",
       "    </tr>\n",
       "    <tr>\n",
       "      <th>6</th>\n",
       "      <td>2019-05-01</td>\n",
       "      <td>An Energy-Efficient Reconfigurable DTLS Crypto...</td>\n",
       "      <td>IEEE Journal of Solid-State Circuits (JSSC)</td>\n",
       "      <td>This paper presents the first hardware impleme...</td>\n",
       "      <td>U. Banerjee, A. Wright, C. Juvekar, M. Waller,...</td>\n",
       "      <td>2019-jssc</td>\n",
       "      <td>https://ieeexplore.ieee.org/document/8721457/</td>\n",
       "    </tr>\n",
       "    <tr>\n",
       "      <th>7</th>\n",
       "      <td>2019-08-01</td>\n",
       "      <td>Sapphire: A Configurable Crypto-Processor for ...</td>\n",
       "      <td>IACR Transactions on Cryptographic Hardware an...</td>\n",
       "      <td>Public key cryptography protocols, such as RSA...</td>\n",
       "      <td>U. Banerjee, T. S. Ukyab and A. P. Chandrakasa...</td>\n",
       "      <td>2019-tches</td>\n",
       "      <td>https://tches.iacr.org/index.php/TCHES/article...</td>\n",
       "    </tr>\n",
       "    <tr>\n",
       "      <th>8</th>\n",
       "      <td>2019-10-01</td>\n",
       "      <td>Sapphire: A Configurable Crypto-Processor for ...</td>\n",
       "      <td>IACR Cryptology ePrint Archive</td>\n",
       "      <td>Public key cryptography protocols, such as RSA...</td>\n",
       "      <td>U. Banerjee, T. S. Ukyab and A. P. Chandrakasa...</td>\n",
       "      <td>2019-eprint</td>\n",
       "      <td>https://eprint.iacr.org/2019/1140.pdf</td>\n",
       "    </tr>\n",
       "    <tr>\n",
       "      <th>9</th>\n",
       "      <td>2019-12-01</td>\n",
       "      <td>Sapphire-Sim: Macro-Op-Level Simulator for Rin...</td>\n",
       "      <td>PrePrint</td>\n",
       "      <td>This manuscript describes a Python-based open-...</td>\n",
       "      <td>U. Banerjee and A. P. Chandrakasan, \"Sapphire-...</td>\n",
       "      <td>2019-preprint</td>\n",
       "      <td>https://banerjeeutsav.github.io/files/2019-sap...</td>\n",
       "    </tr>\n",
       "    <tr>\n",
       "      <th>10</th>\n",
       "      <td>2020-03-01</td>\n",
       "      <td>A Low-Power Dual-Factor Authentication Unit fo...</td>\n",
       "      <td>IEEE Custom Integrated Circuits Conference (CICC)</td>\n",
       "      <td>This paper presents a dual-factor authenticati...</td>\n",
       "      <td>S. Maji, U. Banerjee, S. H. Fuller, M. R. Abde...</td>\n",
       "      <td>2020-cicc</td>\n",
       "      <td>https://ieeexplore.ieee.org/document/9075945/</td>\n",
       "    </tr>\n",
       "  </tbody>\n",
       "</table>\n",
       "</div>"
      ],
      "text/plain": [
       "      pub_date                                              title  \\\n",
       "0   2014-04-01  Comparative DC Characteristic Analysis of AlGa...   \n",
       "1   2015-02-01  Influence of Growth Morphology on Electrical a...   \n",
       "2   2015-12-01  Power-Based Side-Channel Attack for AES Key Ex...   \n",
       "3   2017-12-01  eeDTLS: Energy-Efficient Datagram Transport La...   \n",
       "4   2018-02-01  An Energy-Efficient Reconfigurable DTLS Crypto...   \n",
       "5   2019-02-01  An Energy-Efficient Configurable Lattice Crypt...   \n",
       "6   2019-05-01  An Energy-Efficient Reconfigurable DTLS Crypto...   \n",
       "7   2019-08-01  Sapphire: A Configurable Crypto-Processor for ...   \n",
       "8   2019-10-01  Sapphire: A Configurable Crypto-Processor for ...   \n",
       "9   2019-12-01  Sapphire-Sim: Macro-Op-Level Simulator for Rin...   \n",
       "10  2020-03-01  A Low-Power Dual-Factor Authentication Unit fo...   \n",
       "\n",
       "                                                venue  \\\n",
       "0                     Journal of Electronic Materials   \n",
       "1                             Solid-State Electronics   \n",
       "2                MIT Computer Systems Security Report   \n",
       "3    IEEE Global Communications Conference (GLOBECOM)   \n",
       "4   IEEE International Solid-State Circuits Confer...   \n",
       "5   IEEE International Solid-State Circuits Confer...   \n",
       "6         IEEE Journal of Solid-State Circuits (JSSC)   \n",
       "7   IACR Transactions on Cryptographic Hardware an...   \n",
       "8                      IACR Cryptology ePrint Archive   \n",
       "9                                            PrePrint   \n",
       "10  IEEE Custom Integrated Circuits Conference (CICC)   \n",
       "\n",
       "                                              excerpt  \\\n",
       "0   A comparative assessment of AlGaN/GaN high-ele...   \n",
       "1   In this paper an analytical model has been opt...   \n",
       "2   We demonstrate the extraction of an AES secret...   \n",
       "3   In the fast growing world of the Internet of T...   \n",
       "4   End-to-end security protocols, like Datagram T...   \n",
       "5   Modern public key protocols, such as RSA and e...   \n",
       "6   This paper presents the first hardware impleme...   \n",
       "7   Public key cryptography protocols, such as RSA...   \n",
       "8   Public key cryptography protocols, such as RSA...   \n",
       "9   This manuscript describes a Python-based open-...   \n",
       "10  This paper presents a dual-factor authenticati...   \n",
       "\n",
       "                                             citation         url_slug  \\\n",
       "0   P. Mukhopadhyay, A. Bag, U. Gomes, U. Banerjee...         2014-jem   \n",
       "1   P. Mukhopadhyay, U. Banerjee, A. Bag, S. Ghosh...         2015-sse   \n",
       "2   U. Banerjee, L. Ho and S. Koppula, \"Power-Base...  2015-report-858   \n",
       "3   U. Banerjee, C. Juvekar, S. H. Fuller and A. P...    2017-globecom   \n",
       "4   U. Banerjee, C. Juvekar, A. Wright, Arvind and...       2018-isscc   \n",
       "5   U. Banerjee, A. Pathak and A. P. Chandrakasan,...       2019-isscc   \n",
       "6   U. Banerjee, A. Wright, C. Juvekar, M. Waller,...        2019-jssc   \n",
       "7   U. Banerjee, T. S. Ukyab and A. P. Chandrakasa...       2019-tches   \n",
       "8   U. Banerjee, T. S. Ukyab and A. P. Chandrakasa...      2019-eprint   \n",
       "9   U. Banerjee and A. P. Chandrakasan, \"Sapphire-...    2019-preprint   \n",
       "10  S. Maji, U. Banerjee, S. H. Fuller, M. R. Abde...        2020-cicc   \n",
       "\n",
       "                                            paper_url  \n",
       "0           https://doi.org/10.1007/s11664-014-3050-4  \n",
       "1           https://doi.org/10.1016/j.sse.2014.11.017  \n",
       "2   http://css.csail.mit.edu/6.858/2015/projects/u...  \n",
       "3       https://ieeexplore.ieee.org/document/8255053/  \n",
       "4       https://ieeexplore.ieee.org/document/8310174/  \n",
       "5       https://ieeexplore.ieee.org/document/8662528/  \n",
       "6       https://ieeexplore.ieee.org/document/8721457/  \n",
       "7   https://tches.iacr.org/index.php/TCHES/article...  \n",
       "8               https://eprint.iacr.org/2019/1140.pdf  \n",
       "9   https://banerjeeutsav.github.io/files/2019-sap...  \n",
       "10      https://ieeexplore.ieee.org/document/9075945/  "
      ]
     },
     "execution_count": 3,
     "metadata": {},
     "output_type": "execute_result"
    }
   ],
   "source": [
    "publications = pd.read_csv(\"publications.tsv\", sep=\"\\t\", header=0)\n",
    "publications\n"
   ]
  },
  {
   "cell_type": "markdown",
   "metadata": {},
   "source": [
    "## Escape special characters\n",
    "\n",
    "YAML is very picky about how it takes a valid string, so we are replacing single and double quotes (and ampersands) with their HTML encoded equivilents. This makes them look not so readable in raw format, but they are parsed and rendered nicely."
   ]
  },
  {
   "cell_type": "code",
   "execution_count": 4,
   "metadata": {},
   "outputs": [],
   "source": [
    "html_escape_table = {\n",
    "    \"&\": \"&amp;\",\n",
    "    '\"': \"&quot;\",\n",
    "    \"'\": \"&apos;\"\n",
    "    }\n",
    "\n",
    "def html_escape(text):\n",
    "    \"\"\"Produce entities within text.\"\"\"\n",
    "    return \"\".join(html_escape_table.get(c,c) for c in text)"
   ]
  },
  {
   "cell_type": "markdown",
   "metadata": {},
   "source": [
    "## Creating the markdown files\n",
    "\n",
    "This is where the heavy lifting is done. This loops through all the rows in the TSV dataframe, then starts to concatentate a big string (```md```) that contains the markdown for each type. It does the YAML metadata first, then does the description for the individual page."
   ]
  },
  {
   "cell_type": "code",
   "execution_count": 5,
   "metadata": {},
   "outputs": [],
   "source": [
    "import os\n",
    "for row, item in publications.iterrows():\n",
    "    \n",
    "    md_filename = str(item.pub_date) + \"-\" + item.url_slug + \".md\"\n",
    "    html_filename = str(item.pub_date) + \"-\" + item.url_slug\n",
    "    year = item.pub_date[:4]\n",
    "    \n",
    "    ## YAML variables\n",
    "    \n",
    "    md = \"---\\ntitle: \\\"\"   + item.title + '\"\\n'\n",
    "    \n",
    "    md += \"\"\"collection: publications\"\"\"\n",
    "    \n",
    "    md += \"\"\"\\npermalink: /publication/\"\"\" + html_filename\n",
    "    \n",
    "    if len(str(item.excerpt)) > 5:\n",
    "        md += \"\\nexcerpt: '\" + html_escape(item.excerpt) + \"'\"\n",
    "    \n",
    "    md += \"\\ndate: \" + str(item.pub_date) \n",
    "    \n",
    "    md += \"\\nvenue: '\" + html_escape(item.venue) + \"'\"\n",
    "    \n",
    "    if len(str(item.paper_url)) > 5:\n",
    "        md += \"\\npaperurl: '\" + item.paper_url + \"'\"\n",
    "    \n",
    "    md += \"\\ncitation: '\" + html_escape(item.citation) + \"'\"\n",
    "    \n",
    "    md += \"\\n---\"\n",
    "    \n",
    "    ## Markdown description for individual page\n",
    "        \n",
    "    if len(str(item.excerpt)) > 5:\n",
    "        md += \"\\n\" + html_escape(item.excerpt) + \"\\n\"\n",
    "    \n",
    "    if len(str(item.paper_url)) > 5:\n",
    "        md += \"\\n[Download paper here](\" + item.paper_url + \")\\n\" \n",
    "        \n",
    "    md += \"\\nRecommended citation: \" + item.citation\n",
    "    \n",
    "    md_filename = os.path.basename(md_filename)\n",
    "       \n",
    "    with open(\"../_publications/\" + md_filename, 'w') as f:\n",
    "        f.write(md)"
   ]
  },
  {
   "cell_type": "markdown",
   "metadata": {},
   "source": [
    "These files are in the publications directory, one directory below where we're working from."
   ]
  },
  {
   "cell_type": "code",
   "execution_count": 6,
   "metadata": {},
   "outputs": [
    {
     "name": "stdout",
     "output_type": "stream",
     "text": [
      "2014-04-01-2014-jem.md        2019-05-01-2019-jssc.md\r\n",
      "2015-02-01-2015-sse.md        2019-08-01-2019-tches.md\r\n",
      "2015-12-01-2015-report-858.md 2019-10-01-2019-eprint.md\r\n",
      "2017-12-01-2017-globecom.md   2019-12-01-2019-preprint.md\r\n",
      "2018-02-01-2018-isscc.md      2020-03-01-2020-cicc.md\r\n",
      "2019-02-01-2019-isscc.md\r\n"
     ]
    }
   ],
   "source": [
    "!ls ../_publications/"
   ]
  },
  {
   "cell_type": "code",
   "execution_count": null,
   "metadata": {
    "collapsed": true
   },
   "outputs": [],
   "source": []
  }
 ],
 "metadata": {
  "kernelspec": {
   "display_name": "Python 3",
   "language": "python",
   "name": "python3"
  },
  "language_info": {
   "codemirror_mode": {
    "name": "ipython",
    "version": 3
   },
   "file_extension": ".py",
   "mimetype": "text/x-python",
   "name": "python",
   "nbconvert_exporter": "python",
   "pygments_lexer": "ipython3",
   "version": "3.7.3"
  }
 },
 "nbformat": 4,
 "nbformat_minor": 1
}
