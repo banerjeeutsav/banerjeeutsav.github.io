{
 "cells": [
  {
   "cell_type": "markdown",
   "metadata": {},
   "source": [
    "# Publications markdown generator for academicpages\n",
    "\n",
    "Takes a TSV of publications with metadata and converts them for use with [academicpages.github.io](academicpages.github.io). This is an interactive Jupyter notebook ([see more info here](http://jupyter-notebook-beginner-guide.readthedocs.io/en/latest/what_is_jupyter.html)). The core python code is also in `publications.py`. Run either from the `markdown_generator` folder after replacing `publications.tsv` with one containing your data.\n",
    "\n",
    "TODO: Make this work with BibTex and other databases of citations, rather than Stuart's non-standard TSV format and citation style.\n"
   ]
  },
  {
   "cell_type": "markdown",
   "metadata": {},
   "source": [
    "## Data format\n",
    "\n",
    "The TSV needs to have the following columns: pub_date, title, venue, excerpt, citation, site_url, and paper_url, with a header at the top. \n",
    "\n",
    "- `excerpt` and `paper_url` can be blank, but the others must have values. \n",
    "- `pub_date` must be formatted as YYYY-MM-DD.\n",
    "- `url_slug` will be the descriptive part of the .md file and the permalink URL for the page about the paper. The .md file will be `YYYY-MM-DD-[url_slug].md` and the permalink will be `https://[yourdomain]/publications/YYYY-MM-DD-[url_slug]`\n",
    "\n",
    "This is how the raw file looks (it doesn't look pretty, use a spreadsheet or other program to edit and create)."
   ]
  },
  {
   "cell_type": "code",
   "execution_count": 1,
   "metadata": {},
   "outputs": [
    {
     "name": "stderr",
     "output_type": "stream",
     "text": [
      "'cat' is not recognized as an internal or external command,\n",
      "operable program or batch file.\n"
     ]
    }
   ],
   "source": [
    "!cat publications.tsv"
   ]
  },
  {
   "cell_type": "markdown",
   "metadata": {},
   "source": [
    "## Import pandas\n",
    "\n",
    "We are using the very handy pandas library for dataframes."
   ]
  },
  {
   "cell_type": "code",
   "execution_count": 2,
   "metadata": {
    "collapsed": true
   },
   "outputs": [],
   "source": [
    "import pandas as pd"
   ]
  },
  {
   "cell_type": "markdown",
   "metadata": {},
   "source": [
    "## Import TSV\n",
    "\n",
    "Pandas makes this easy with the read_csv function. We are using a TSV, so we specify the separator as a tab, or `\\t`.\n",
    "\n",
    "I found it important to put this data in a tab-separated values format, because there are a lot of commas in this kind of data and comma-separated values can get messed up. However, you can modify the import statement, as pandas also has read_excel(), read_json(), and others."
   ]
  },
  {
   "cell_type": "code",
   "execution_count": 4,
   "metadata": {},
   "outputs": [
    {
     "data": {
      "text/html": [
       "<div>\n",
       "<style>\n",
       "    .dataframe thead tr:only-child th {\n",
       "        text-align: right;\n",
       "    }\n",
       "\n",
       "    .dataframe thead th {\n",
       "        text-align: left;\n",
       "    }\n",
       "\n",
       "    .dataframe tbody tr th {\n",
       "        vertical-align: top;\n",
       "    }\n",
       "</style>\n",
       "<table border=\"1\" class=\"dataframe\">\n",
       "  <thead>\n",
       "    <tr style=\"text-align: right;\">\n",
       "      <th></th>\n",
       "      <th>pub_date</th>\n",
       "      <th>title</th>\n",
       "      <th>venue</th>\n",
       "      <th>excerpt</th>\n",
       "      <th>citation</th>\n",
       "      <th>url_slug</th>\n",
       "      <th>paper_url</th>\n",
       "    </tr>\n",
       "  </thead>\n",
       "  <tbody>\n",
       "    <tr>\n",
       "      <th>0</th>\n",
       "      <td>2014-04-01</td>\n",
       "      <td>Comparative DC Characteristic Analysis of AlGa...</td>\n",
       "      <td>Journal of Electronic Materials</td>\n",
       "      <td>A comparative assessment of AlGaN/GaN high-ele...</td>\n",
       "      <td>P. Mukhopadhyay, A. Bag, U. Gomes, U. Banerjee...</td>\n",
       "      <td>2014-jem</td>\n",
       "      <td>https://doi.org/10.1007/s11664-014-3050-4</td>\n",
       "    </tr>\n",
       "    <tr>\n",
       "      <th>1</th>\n",
       "      <td>2015-02-01</td>\n",
       "      <td>Influence of Growth Morphology on Electrical a...</td>\n",
       "      <td>Solid-State Electronics</td>\n",
       "      <td>In this paper an analytical model has been opt...</td>\n",
       "      <td>P. Mukhopadhyay, U. Banerjee, A. Bag, S. Ghosh...</td>\n",
       "      <td>2015-sse</td>\n",
       "      <td>https://doi.org/10.1016/j.sse.2014.11.017</td>\n",
       "    </tr>\n",
       "    <tr>\n",
       "      <th>2</th>\n",
       "      <td>2015-12-01</td>\n",
       "      <td>Power-Based Side-Channel Attack for AES Key Ex...</td>\n",
       "      <td>MIT Computer Systems Security Report</td>\n",
       "      <td>We demonstrate the extraction of an AES secret...</td>\n",
       "      <td>U. Banerjee, L. Ho and S. Koppula, \"Power-Base...</td>\n",
       "      <td>2015-report-858</td>\n",
       "      <td>http://css.csail.mit.edu/6.858/2015/projects/u...</td>\n",
       "    </tr>\n",
       "    <tr>\n",
       "      <th>3</th>\n",
       "      <td>2017-12-01</td>\n",
       "      <td>eeDTLS: Energy-Efficient Datagram Transport La...</td>\n",
       "      <td>IEEE Global Communications Conference (GLOBECOM)</td>\n",
       "      <td>In the fast growing world of the Internet of T...</td>\n",
       "      <td>U. Banerjee, C. Juvekar, S. H. Fuller and A. P...</td>\n",
       "      <td>2017-globecom</td>\n",
       "      <td>https://ieeexplore.ieee.org/document/8255053/</td>\n",
       "    </tr>\n",
       "    <tr>\n",
       "      <th>4</th>\n",
       "      <td>2018-02-01</td>\n",
       "      <td>An Energy-Efficient Reconfigurable DTLS Crypto...</td>\n",
       "      <td>IEEE International Solid-State Circuits Confer...</td>\n",
       "      <td>End-to-end security protocols, like Datagram T...</td>\n",
       "      <td>U. Banerjee, C. Juvekar, A. Wright, Arvind and...</td>\n",
       "      <td>2018-isscc</td>\n",
       "      <td>https://ieeexplore.ieee.org/document/8310174/</td>\n",
       "    </tr>\n",
       "  </tbody>\n",
       "</table>\n",
       "</div>"
      ],
      "text/plain": [
       "     pub_date                                              title  \\\n",
       "0  2014-04-01  Comparative DC Characteristic Analysis of AlGa...   \n",
       "1  2015-02-01  Influence of Growth Morphology on Electrical a...   \n",
       "2  2015-12-01  Power-Based Side-Channel Attack for AES Key Ex...   \n",
       "3  2017-12-01  eeDTLS: Energy-Efficient Datagram Transport La...   \n",
       "4  2018-02-01  An Energy-Efficient Reconfigurable DTLS Crypto...   \n",
       "\n",
       "                                               venue  \\\n",
       "0                    Journal of Electronic Materials   \n",
       "1                            Solid-State Electronics   \n",
       "2               MIT Computer Systems Security Report   \n",
       "3   IEEE Global Communications Conference (GLOBECOM)   \n",
       "4  IEEE International Solid-State Circuits Confer...   \n",
       "\n",
       "                                             excerpt  \\\n",
       "0  A comparative assessment of AlGaN/GaN high-ele...   \n",
       "1  In this paper an analytical model has been opt...   \n",
       "2  We demonstrate the extraction of an AES secret...   \n",
       "3  In the fast growing world of the Internet of T...   \n",
       "4  End-to-end security protocols, like Datagram T...   \n",
       "\n",
       "                                            citation         url_slug  \\\n",
       "0  P. Mukhopadhyay, A. Bag, U. Gomes, U. Banerjee...         2014-jem   \n",
       "1  P. Mukhopadhyay, U. Banerjee, A. Bag, S. Ghosh...         2015-sse   \n",
       "2  U. Banerjee, L. Ho and S. Koppula, \"Power-Base...  2015-report-858   \n",
       "3  U. Banerjee, C. Juvekar, S. H. Fuller and A. P...    2017-globecom   \n",
       "4  U. Banerjee, C. Juvekar, A. Wright, Arvind and...       2018-isscc   \n",
       "\n",
       "                                           paper_url  \n",
       "0          https://doi.org/10.1007/s11664-014-3050-4  \n",
       "1          https://doi.org/10.1016/j.sse.2014.11.017  \n",
       "2  http://css.csail.mit.edu/6.858/2015/projects/u...  \n",
       "3      https://ieeexplore.ieee.org/document/8255053/  \n",
       "4      https://ieeexplore.ieee.org/document/8310174/  "
      ]
     },
     "execution_count": 4,
     "metadata": {},
     "output_type": "execute_result"
    }
   ],
   "source": [
    "publications = pd.read_csv(\"publications.tsv\", sep=\"\\t\", header=0)\n",
    "publications\n"
   ]
  },
  {
   "cell_type": "markdown",
   "metadata": {},
   "source": [
    "## Escape special characters\n",
    "\n",
    "YAML is very picky about how it takes a valid string, so we are replacing single and double quotes (and ampersands) with their HTML encoded equivilents. This makes them look not so readable in raw format, but they are parsed and rendered nicely."
   ]
  },
  {
   "cell_type": "code",
   "execution_count": 5,
   "metadata": {
    "collapsed": true
   },
   "outputs": [],
   "source": [
    "html_escape_table = {\n",
    "    \"&\": \"&amp;\",\n",
    "    '\"': \"&quot;\",\n",
    "    \"'\": \"&apos;\"\n",
    "    }\n",
    "\n",
    "def html_escape(text):\n",
    "    \"\"\"Produce entities within text.\"\"\"\n",
    "    return \"\".join(html_escape_table.get(c,c) for c in text)"
   ]
  },
  {
   "cell_type": "markdown",
   "metadata": {},
   "source": [
    "## Creating the markdown files\n",
    "\n",
    "This is where the heavy lifting is done. This loops through all the rows in the TSV dataframe, then starts to concatentate a big string (```md```) that contains the markdown for each type. It does the YAML metadata first, then does the description for the individual page."
   ]
  },
  {
   "cell_type": "code",
   "execution_count": 6,
   "metadata": {
    "collapsed": true
   },
   "outputs": [],
   "source": [
    "import os\n",
    "for row, item in publications.iterrows():\n",
    "    \n",
    "    md_filename = str(item.pub_date) + \"-\" + item.url_slug + \".md\"\n",
    "    html_filename = str(item.pub_date) + \"-\" + item.url_slug\n",
    "    year = item.pub_date[:4]\n",
    "    \n",
    "    ## YAML variables\n",
    "    \n",
    "    md = \"---\\ntitle: \\\"\"   + item.title + '\"\\n'\n",
    "    \n",
    "    md += \"\"\"collection: publications\"\"\"\n",
    "    \n",
    "    md += \"\"\"\\npermalink: /publication/\"\"\" + html_filename\n",
    "    \n",
    "    if len(str(item.excerpt)) > 5:\n",
    "        md += \"\\nexcerpt: '\" + html_escape(item.excerpt) + \"'\"\n",
    "    \n",
    "    md += \"\\ndate: \" + str(item.pub_date) \n",
    "    \n",
    "    md += \"\\nvenue: '\" + html_escape(item.venue) + \"'\"\n",
    "    \n",
    "    if len(str(item.paper_url)) > 5:\n",
    "        md += \"\\npaperurl: '\" + item.paper_url + \"'\"\n",
    "    \n",
    "    md += \"\\ncitation: '\" + html_escape(item.citation) + \"'\"\n",
    "    \n",
    "    md += \"\\n---\"\n",
    "    \n",
    "    ## Markdown description for individual page\n",
    "        \n",
    "    if len(str(item.excerpt)) > 5:\n",
    "        md += \"\\n\" + html_escape(item.excerpt) + \"\\n\"\n",
    "    \n",
    "    if len(str(item.paper_url)) > 5:\n",
    "        md += \"\\n[Download paper here](\" + item.paper_url + \")\\n\" \n",
    "        \n",
    "    md += \"\\nRecommended citation: \" + item.citation\n",
    "    \n",
    "    md_filename = os.path.basename(md_filename)\n",
    "       \n",
    "    with open(\"../_publications/\" + md_filename, 'w') as f:\n",
    "        f.write(md)"
   ]
  },
  {
   "cell_type": "markdown",
   "metadata": {},
   "source": [
    "These files are in the publications directory, one directory below where we're working from."
   ]
  },
  {
   "cell_type": "code",
   "execution_count": 7,
   "metadata": {},
   "outputs": [
    {
     "name": "stderr",
     "output_type": "stream",
     "text": [
      "'ls' is not recognized as an internal or external command,\n",
      "operable program or batch file.\n"
     ]
    }
   ],
   "source": [
    "!ls ../_publications/"
   ]
  },
  {
   "cell_type": "code",
   "execution_count": null,
   "metadata": {
    "collapsed": true
   },
   "outputs": [],
   "source": []
  }
 ],
 "metadata": {
  "kernelspec": {
   "display_name": "Python 2",
   "language": "python",
   "name": "python2"
  }
 },
 "nbformat": 4,
 "nbformat_minor": 1
}
